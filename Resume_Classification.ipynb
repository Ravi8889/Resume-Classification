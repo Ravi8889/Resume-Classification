{
  "nbformat": 4,
  "nbformat_minor": 0,
  "metadata": {
    "colab": {
      "name": "Resume Classification",
      "provenance": [],
      "collapsed_sections": []
    },
    "kernelspec": {
      "name": "python3",
      "display_name": "Python 3"
    }
  },
  "cells": [
    {
      "cell_type": "code",
      "metadata": {
        "colab": {
          "base_uri": "https://localhost:8080/"
        },
        "id": "lvmgCMbGBVk4",
        "outputId": "6ca6e6c4-e9d6-49f5-b0e7-5b0a09fe587a"
      },
      "source": [
        "!apt-get install python-dev libxml2-dev libxslt1-dev antiword unrtf poppler-utils pstotext tesseract-ocr \\\n",
        "flac ffmpeg lame libmad0 libsox-fmt-mp3 sox libjpeg-dev swig libpulse-dev\n",
        "!pip install textract"
      ],
      "execution_count": 20,
      "outputs": [
        {
          "output_type": "stream",
          "name": "stdout",
          "text": [
            "Reading package lists... Done\n",
            "Building dependency tree       \n",
            "Reading state information... Done\n",
            "libjpeg-dev is already the newest version (8c-2ubuntu8).\n",
            "python-dev is already the newest version (2.7.15~rc1-1).\n",
            "antiword is already the newest version (0.37-11build1).\n",
            "flac is already the newest version (1.3.2-1).\n",
            "lame is already the newest version (3.100-2).\n",
            "pstotext is already the newest version (1.9-6build1).\n",
            "swig is already the newest version (3.0.12-1).\n",
            "tesseract-ocr is already the newest version (4.00~git2288-10f4998a-2).\n",
            "unrtf is already the newest version (0.21.9-clean-3).\n",
            "libpulse-dev is already the newest version (1:11.1-1ubuntu7.11).\n",
            "libxml2-dev is already the newest version (2.9.4+dfsg1-6.1ubuntu1.4).\n",
            "libxslt1-dev is already the newest version (1.1.29-5ubuntu0.2).\n",
            "poppler-utils is already the newest version (0.62.0-2ubuntu2.12).\n",
            "ffmpeg is already the newest version (7:3.4.8-0ubuntu0.2).\n",
            "libmad0 is already the newest version (0.15.1b-9ubuntu18.04.1).\n",
            "libsox-fmt-mp3 is already the newest version (14.4.2-3ubuntu0.18.04.1).\n",
            "sox is already the newest version (14.4.2-3ubuntu0.18.04.1).\n",
            "0 upgraded, 0 newly installed, 0 to remove and 37 not upgraded.\n",
            "Requirement already satisfied: textract in /usr/local/lib/python3.7/dist-packages (1.6.4)\n",
            "Requirement already satisfied: chardet==3.* in /usr/local/lib/python3.7/dist-packages (from textract) (3.0.4)\n",
            "Requirement already satisfied: extract-msg<=0.29.* in /usr/local/lib/python3.7/dist-packages (from textract) (0.28.7)\n",
            "Requirement already satisfied: argcomplete~=1.10.0 in /usr/local/lib/python3.7/dist-packages (from textract) (1.10.3)\n",
            "Requirement already satisfied: six~=1.12.0 in /usr/local/lib/python3.7/dist-packages (from textract) (1.12.0)\n",
            "Requirement already satisfied: python-pptx~=0.6.18 in /usr/local/lib/python3.7/dist-packages (from textract) (0.6.21)\n",
            "Requirement already satisfied: pdfminer.six==20191110 in /usr/local/lib/python3.7/dist-packages (from textract) (20191110)\n",
            "Requirement already satisfied: EbookLib==0.* in /usr/local/lib/python3.7/dist-packages (from textract) (0.17.1)\n",
            "Requirement already satisfied: beautifulsoup4~=4.8.0 in /usr/local/lib/python3.7/dist-packages (from textract) (4.8.2)\n",
            "Requirement already satisfied: docx2txt~=0.8 in /usr/local/lib/python3.7/dist-packages (from textract) (0.8)\n",
            "Requirement already satisfied: SpeechRecognition~=3.8.1 in /usr/local/lib/python3.7/dist-packages (from textract) (3.8.1)\n",
            "Requirement already satisfied: xlrd~=1.2.0 in /usr/local/lib/python3.7/dist-packages (from textract) (1.2.0)\n",
            "Requirement already satisfied: lxml in /usr/local/lib/python3.7/dist-packages (from EbookLib==0.*->textract) (4.2.6)\n",
            "Requirement already satisfied: sortedcontainers in /usr/local/lib/python3.7/dist-packages (from pdfminer.six==20191110->textract) (2.4.0)\n",
            "Requirement already satisfied: pycryptodome in /usr/local/lib/python3.7/dist-packages (from pdfminer.six==20191110->textract) (3.11.0)\n",
            "Requirement already satisfied: soupsieve>=1.2 in /usr/local/lib/python3.7/dist-packages (from beautifulsoup4~=4.8.0->textract) (2.3.1)\n",
            "Requirement already satisfied: imapclient==2.1.0 in /usr/local/lib/python3.7/dist-packages (from extract-msg<=0.29.*->textract) (2.1.0)\n",
            "Requirement already satisfied: olefile>=0.46 in /usr/local/lib/python3.7/dist-packages (from extract-msg<=0.29.*->textract) (0.46)\n",
            "Requirement already satisfied: compressed-rtf>=1.0.6 in /usr/local/lib/python3.7/dist-packages (from extract-msg<=0.29.*->textract) (1.0.6)\n",
            "Requirement already satisfied: tzlocal>=2.1 in /usr/local/lib/python3.7/dist-packages (from extract-msg<=0.29.*->textract) (4.1)\n",
            "Requirement already satisfied: ebcdic>=1.1.1 in /usr/local/lib/python3.7/dist-packages (from extract-msg<=0.29.*->textract) (1.1.1)\n",
            "Requirement already satisfied: Pillow>=3.3.2 in /usr/local/lib/python3.7/dist-packages (from python-pptx~=0.6.18->textract) (7.1.2)\n",
            "Requirement already satisfied: XlsxWriter>=0.5.7 in /usr/local/lib/python3.7/dist-packages (from python-pptx~=0.6.18->textract) (3.0.2)\n",
            "Requirement already satisfied: backports.zoneinfo in /usr/local/lib/python3.7/dist-packages (from tzlocal>=2.1->extract-msg<=0.29.*->textract) (0.2.1)\n",
            "Requirement already satisfied: pytz-deprecation-shim in /usr/local/lib/python3.7/dist-packages (from tzlocal>=2.1->extract-msg<=0.29.*->textract) (0.1.0.post0)\n",
            "Requirement already satisfied: tzdata in /usr/local/lib/python3.7/dist-packages (from pytz-deprecation-shim->tzlocal>=2.1->extract-msg<=0.29.*->textract) (2021.5)\n"
          ]
        }
      ]
    },
    {
      "cell_type": "code",
      "metadata": {
        "colab": {
          "base_uri": "https://localhost:8080/"
        },
        "id": "U_By-2bGA_yB",
        "outputId": "9b66c6f9-694c-42ca-f464-68a47a3a7079"
      },
      "source": [
        "# Setup\n",
        "!pip install -q wordcloud\n",
        "import wordcloud\n",
        "\n",
        "import nltk\n",
        "nltk.download('stopwords')\n",
        "nltk.download('wordnet')\n",
        "nltk.download('punkt')\n",
        "nltk.download('averaged_perceptron_tagger') \n",
        "\n",
        "import pandas as pd\n",
        "import matplotlib.pyplot as plt\n",
        "import io\n",
        "import unicodedata\n",
        "import numpy as np\n",
        "import re\n",
        "import string"
      ],
      "execution_count": 21,
      "outputs": [
        {
          "output_type": "stream",
          "name": "stdout",
          "text": [
            "[nltk_data] Downloading package stopwords to /root/nltk_data...\n",
            "[nltk_data]   Package stopwords is already up-to-date!\n",
            "[nltk_data] Downloading package wordnet to /root/nltk_data...\n",
            "[nltk_data]   Package wordnet is already up-to-date!\n",
            "[nltk_data] Downloading package punkt to /root/nltk_data...\n",
            "[nltk_data]   Package punkt is already up-to-date!\n",
            "[nltk_data] Downloading package averaged_perceptron_tagger to\n",
            "[nltk_data]     /root/nltk_data...\n",
            "[nltk_data]   Package averaged_perceptron_tagger is already up-to-\n",
            "[nltk_data]       date!\n"
          ]
        }
      ]
    },
    {
      "cell_type": "code",
      "metadata": {
        "id": "YSFBm5RVA2uU"
      },
      "source": [
        "import os\n",
        "import uuid\n",
        "import textract\n",
        "import pandas as pd\n",
        "import numpy as np\n",
        "import re\n",
        "import unicodedata\n",
        "import sys\n",
        "import nltk\n",
        "#nltk.download()"
      ],
      "execution_count": 22,
      "outputs": []
    },
    {
      "cell_type": "code",
      "metadata": {
        "id": "3ggW62v_BH0J"
      },
      "source": [
        "# original resume directory\n",
        "source_directory = \"/content/sample_data/Resumes\""
      ],
      "execution_count": 23,
      "outputs": []
    },
    {
      "cell_type": "code",
      "metadata": {
        "id": "hSDa8mY4BJhD"
      },
      "source": [
        "df = pd.DataFrame()"
      ],
      "execution_count": 24,
      "outputs": []
    },
    {
      "cell_type": "code",
      "metadata": {
        "id": "XvxukbweBJnZ"
      },
      "source": [
        "source_directory = \"/content/sample_data/Resumes\"\n",
        "# create training directory to store resumes converted in text format\n",
        "training_directory = os.path.join(\"/content/sample_data\", \"train data\")\n",
        "\n",
        "for process_file in  os.listdir(source_directory):\n",
        "  if not process_file.startswith('.'):\n",
        "    file, extension = os.path.splitext(process_file)\n",
        "    \n",
        "    # We create a new text file name by concatenating the .txt extension to file UUID\n",
        "    dest_file_path = file + '.txt'\n",
        "    #print(file, \"  \",extension,\"  \"+dest_file_path)\n",
        "    #extract text from the file\n",
        "    content = textract.process(os.path.join(source_directory, process_file))\n",
        "\n",
        "    df = df.append([[content]],ignore_index=True)\n",
        "    #print(df)\n",
        "    \n",
        "    # We create and open the new and we prepare to write the Binary Data which is represented by the wb - Write Binary\n",
        "    write_text_file = open(os.path.join(training_directory, dest_file_path), \"wb\")\n",
        "\n",
        "    # write the content \n",
        "    write_text_file.write(content)\n",
        "    # close the newly created file\n",
        "    write_text_file.close()"
      ],
      "execution_count": 27,
      "outputs": []
    },
    {
      "cell_type": "code",
      "metadata": {
        "colab": {
          "base_uri": "https://localhost:8080/"
        },
        "id": "6iN8S4oB413x",
        "outputId": "e8be2f89-c34f-4067-91af-2e6cfbfe8ce7"
      },
      "source": [
        "ll"
      ],
      "execution_count": 28,
      "outputs": [
        {
          "output_type": "stream",
          "name": "stdout",
          "text": [
            "total 4\n",
            "drwxr-xr-x 1 root 4096 Dec  1 16:39 \u001b[0m\u001b[01;34msample_data\u001b[0m/\n"
          ]
        }
      ]
    },
    {
      "cell_type": "code",
      "metadata": {
        "id": "33Zak_gr8aJi",
        "colab": {
          "base_uri": "https://localhost:8080/"
        },
        "outputId": "47b404a3-1be6-481f-db8c-09a339e3c077"
      },
      "source": [
        "import os\n",
        "import uuid\n",
        "import textract\n",
        "import pandas as pd\n",
        "import numpy as np\n",
        "import re\n",
        "import unicodedata\n",
        "import sys\n",
        "import nltk\n",
        "nltk.download()"
      ],
      "execution_count": 29,
      "outputs": [
        {
          "name": "stdout",
          "output_type": "stream",
          "text": [
            "NLTK Downloader\n",
            "---------------------------------------------------------------------------\n",
            "    d) Download   l) List    u) Update   c) Config   h) Help   q) Quit\n",
            "---------------------------------------------------------------------------\n",
            "Downloader> q\n"
          ]
        },
        {
          "output_type": "execute_result",
          "data": {
            "text/plain": [
              "True"
            ]
          },
          "metadata": {},
          "execution_count": 29
        }
      ]
    },
    {
      "cell_type": "code",
      "metadata": {
        "id": "Jjzv1MoM4kbg"
      },
      "source": [
        "# original resume directory\n",
        "source_directory = \"/content/sample_data/Resumes\""
      ],
      "execution_count": 30,
      "outputs": []
    },
    {
      "cell_type": "code",
      "metadata": {
        "id": "pQK3Upky4keF"
      },
      "source": [
        "df =pd.DataFrame()"
      ],
      "execution_count": 31,
      "outputs": []
    },
    {
      "cell_type": "code",
      "metadata": {
        "id": "Hhn2leuE-boG"
      },
      "source": [
        "source_directory = \"/content/sample_data/Resumes\"\n",
        "# create training directory to store resumes converted in text format\n",
        "training_directory = os.path.join(\"/content/sample_data\", \"train data\")\n",
        "\n",
        "for process_file in  os.listdir(source_directory):\n",
        "  if not process_file.startswith('.'):\n",
        "    file, extension = os.path.splitext(process_file)\n",
        "    \n",
        "    # We create a new text file name by concatenating the .txt extension to file UUID\n",
        "    dest_file_path = file + '.txt'\n",
        "    #print(file, \"  \",extension,\"  \"+dest_file_path)\n",
        "    #extract text from the file\n",
        "    content = textract.process(os.path.join(source_directory, process_file))\n",
        "\n",
        "    df = df.append([[content]],ignore_index=True)\n",
        "    \n",
        "    # We create and open the new and we prepare to write the Binary Data which is represented by the wb - Write Binary\n",
        "    write_text_file = open(os.path.join(training_directory, dest_file_path), \"wb\")\n",
        "\n",
        "    # write the content \n",
        "    write_text_file.write(content)\n",
        "    # close the newly created file\n",
        "    write_text_file.close()"
      ],
      "execution_count": 32,
      "outputs": []
    },
    {
      "cell_type": "code",
      "metadata": {
        "id": "-M9i8FQe-tNe",
        "colab": {
          "base_uri": "https://localhost:8080/",
          "height": 206
        },
        "outputId": "12b0d604-ec2e-4716-8745-0a3811f42b54"
      },
      "source": [
        "df.head()"
      ],
      "execution_count": 33,
      "outputs": [
        {
          "output_type": "execute_result",
          "data": {
            "text/html": [
              "<div>\n",
              "<style scoped>\n",
              "    .dataframe tbody tr th:only-of-type {\n",
              "        vertical-align: middle;\n",
              "    }\n",
              "\n",
              "    .dataframe tbody tr th {\n",
              "        vertical-align: top;\n",
              "    }\n",
              "\n",
              "    .dataframe thead th {\n",
              "        text-align: right;\n",
              "    }\n",
              "</style>\n",
              "<table border=\"1\" class=\"dataframe\">\n",
              "  <thead>\n",
              "    <tr style=\"text-align: right;\">\n",
              "      <th></th>\n",
              "      <th>0</th>\n",
              "    </tr>\n",
              "  </thead>\n",
              "  <tbody>\n",
              "    <tr>\n",
              "      <th>0</th>\n",
              "      <td>b'\\nArun Venu\\n\\n\\n  EXPERIENCE SUMMARY\\n\\n\\n ...</td>\n",
              "    </tr>\n",
              "    <tr>\n",
              "      <th>1</th>\n",
              "      <td>b'Mooraboyina Guravaiah\\n\\nWorkday Integration...</td>\n",
              "    </tr>\n",
              "    <tr>\n",
              "      <th>2</th>\n",
              "      <td>b'Priyabrata Hota\\n\\n\\n\\n\\n\\nCAREER OBJECTIVE\\...</td>\n",
              "    </tr>\n",
              "    <tr>\n",
              "      <th>3</th>\n",
              "      <td>b'HARIPRIYA BATTINA \\n\\nExperience as UI Devel...</td>\n",
              "    </tr>\n",
              "    <tr>\n",
              "      <th>4</th>\n",
              "      <td>b\"\\nMaryala Vinay Reddy\\n\\nProfessional Summar...</td>\n",
              "    </tr>\n",
              "  </tbody>\n",
              "</table>\n",
              "</div>"
            ],
            "text/plain": [
              "                                                   0\n",
              "0  b'\\nArun Venu\\n\\n\\n  EXPERIENCE SUMMARY\\n\\n\\n ...\n",
              "1  b'Mooraboyina Guravaiah\\n\\nWorkday Integration...\n",
              "2  b'Priyabrata Hota\\n\\n\\n\\n\\n\\nCAREER OBJECTIVE\\...\n",
              "3  b'HARIPRIYA BATTINA \\n\\nExperience as UI Devel...\n",
              "4  b\"\\nMaryala Vinay Reddy\\n\\nProfessional Summar..."
            ]
          },
          "metadata": {},
          "execution_count": 33
        }
      ]
    },
    {
      "cell_type": "code",
      "metadata": {
        "id": "PCdspEhL0jn2",
        "colab": {
          "base_uri": "https://localhost:8080/",
          "height": 206
        },
        "outputId": "47d4936c-09aa-4075-dce9-cad1d35c213c"
      },
      "source": [
        "df.tail()"
      ],
      "execution_count": 34,
      "outputs": [
        {
          "output_type": "execute_result",
          "data": {
            "text/html": [
              "<div>\n",
              "<style scoped>\n",
              "    .dataframe tbody tr th:only-of-type {\n",
              "        vertical-align: middle;\n",
              "    }\n",
              "\n",
              "    .dataframe tbody tr th {\n",
              "        vertical-align: top;\n",
              "    }\n",
              "\n",
              "    .dataframe thead th {\n",
              "        text-align: right;\n",
              "    }\n",
              "</style>\n",
              "<table border=\"1\" class=\"dataframe\">\n",
              "  <thead>\n",
              "    <tr style=\"text-align: right;\">\n",
              "      <th></th>\n",
              "      <th>0</th>\n",
              "    </tr>\n",
              "  </thead>\n",
              "  <tbody>\n",
              "    <tr>\n",
              "      <th>74</th>\n",
              "      <td>b'\\n\\nCareer objective\\n\\n\\nA rewarding opport...</td>\n",
              "    </tr>\n",
              "    <tr>\n",
              "      <th>75</th>\n",
              "      <td>b'PeopleSoft Administration\\n\\n \\n\\nVivekanand...</td>\n",
              "    </tr>\n",
              "    <tr>\n",
              "      <th>76</th>\n",
              "      <td>b'Pranish Sonone\\n\\n\\t\\t\\n\\n\\n\\n\\n\\n\\n\\n\\n\\nCa...</td>\n",
              "    </tr>\n",
              "    <tr>\n",
              "      <th>77</th>\n",
              "      <td>b'\\n                              CURRICULUM V...</td>\n",
              "    </tr>\n",
              "    <tr>\n",
              "      <th>78</th>\n",
              "      <td>b'Workday HCM  Techno functional Consultant   ...</td>\n",
              "    </tr>\n",
              "  </tbody>\n",
              "</table>\n",
              "</div>"
            ],
            "text/plain": [
              "                                                    0\n",
              "74  b'\\n\\nCareer objective\\n\\n\\nA rewarding opport...\n",
              "75  b'PeopleSoft Administration\\n\\n \\n\\nVivekanand...\n",
              "76  b'Pranish Sonone\\n\\n\\t\\t\\n\\n\\n\\n\\n\\n\\n\\n\\n\\nCa...\n",
              "77  b'\\n                              CURRICULUM V...\n",
              "78  b'Workday HCM  Techno functional Consultant   ..."
            ]
          },
          "metadata": {},
          "execution_count": 34
        }
      ]
    },
    {
      "cell_type": "code",
      "metadata": {
        "id": "w6BiRh50nz1L"
      },
      "source": [
        "df.columns =['Resumes']"
      ],
      "execution_count": 35,
      "outputs": []
    },
    {
      "cell_type": "code",
      "metadata": {
        "colab": {
          "base_uri": "https://localhost:8080/"
        },
        "id": "Y9pn_Yb-n2in",
        "outputId": "d4fdb501-7c58-461c-87ab-fdb6cb5af892"
      },
      "source": [
        "df.info()"
      ],
      "execution_count": 36,
      "outputs": [
        {
          "output_type": "stream",
          "name": "stdout",
          "text": [
            "<class 'pandas.core.frame.DataFrame'>\n",
            "RangeIndex: 79 entries, 0 to 78\n",
            "Data columns (total 1 columns):\n",
            " #   Column   Non-Null Count  Dtype \n",
            "---  ------   --------------  ----- \n",
            " 0   Resumes  79 non-null     object\n",
            "dtypes: object(1)\n",
            "memory usage: 760.0+ bytes\n"
          ]
        }
      ]
    },
    {
      "cell_type": "code",
      "metadata": {
        "id": "yF2pcvB_oBEp"
      },
      "source": [
        "df['Resumes'] =df['Resumes'].apply(lambda x : x.decode('utf-8'))"
      ],
      "execution_count": 37,
      "outputs": []
    },
    {
      "cell_type": "code",
      "metadata": {
        "colab": {
          "base_uri": "https://localhost:8080/",
          "height": 206
        },
        "id": "p6iPvxR0pRhz",
        "outputId": "41edf8d4-3a20-4784-abbb-0ebc0e08e7e3"
      },
      "source": [
        "df.head()"
      ],
      "execution_count": 38,
      "outputs": [
        {
          "output_type": "execute_result",
          "data": {
            "text/html": [
              "<div>\n",
              "<style scoped>\n",
              "    .dataframe tbody tr th:only-of-type {\n",
              "        vertical-align: middle;\n",
              "    }\n",
              "\n",
              "    .dataframe tbody tr th {\n",
              "        vertical-align: top;\n",
              "    }\n",
              "\n",
              "    .dataframe thead th {\n",
              "        text-align: right;\n",
              "    }\n",
              "</style>\n",
              "<table border=\"1\" class=\"dataframe\">\n",
              "  <thead>\n",
              "    <tr style=\"text-align: right;\">\n",
              "      <th></th>\n",
              "      <th>Resumes</th>\n",
              "    </tr>\n",
              "  </thead>\n",
              "  <tbody>\n",
              "    <tr>\n",
              "      <th>0</th>\n",
              "      <td>\\nArun Venu\\n\\n\\n  EXPERIENCE SUMMARY\\n\\n\\n   ...</td>\n",
              "    </tr>\n",
              "    <tr>\n",
              "      <th>1</th>\n",
              "      <td>Mooraboyina Guravaiah\\n\\nWorkday Integration S...</td>\n",
              "    </tr>\n",
              "    <tr>\n",
              "      <th>2</th>\n",
              "      <td>Priyabrata Hota\\n\\n\\n\\n\\n\\nCAREER OBJECTIVE\\t\\...</td>\n",
              "    </tr>\n",
              "    <tr>\n",
              "      <th>3</th>\n",
              "      <td>HARIPRIYA BATTINA \\n\\nExperience as UI Develop...</td>\n",
              "    </tr>\n",
              "    <tr>\n",
              "      <th>4</th>\n",
              "      <td>\\nMaryala Vinay Reddy\\n\\nProfessional Summary:...</td>\n",
              "    </tr>\n",
              "  </tbody>\n",
              "</table>\n",
              "</div>"
            ],
            "text/plain": [
              "                                             Resumes\n",
              "0  \\nArun Venu\\n\\n\\n  EXPERIENCE SUMMARY\\n\\n\\n   ...\n",
              "1  Mooraboyina Guravaiah\\n\\nWorkday Integration S...\n",
              "2  Priyabrata Hota\\n\\n\\n\\n\\n\\nCAREER OBJECTIVE\\t\\...\n",
              "3  HARIPRIYA BATTINA \\n\\nExperience as UI Develop...\n",
              "4  \\nMaryala Vinay Reddy\\n\\nProfessional Summary:..."
            ]
          },
          "metadata": {},
          "execution_count": 38
        }
      ]
    },
    {
      "cell_type": "code",
      "metadata": {
        "id": "W9elX57RpXWq"
      },
      "source": [
        "## Exporting the data into csv files\n",
        "df.to_csv('resumes.csv',encoding ='utf-8',index =False)"
      ],
      "execution_count": 39,
      "outputs": []
    },
    {
      "cell_type": "code",
      "metadata": {
        "id": "DpjYtLiQpXZV"
      },
      "source": [
        "df =pd.read_csv(\"resumes.csv\", encoding='utf-8')"
      ],
      "execution_count": 40,
      "outputs": []
    },
    {
      "cell_type": "code",
      "metadata": {
        "colab": {
          "base_uri": "https://localhost:8080/",
          "height": 363
        },
        "id": "4Ic6QZxNpXb5",
        "outputId": "c2d51b6b-9306-451e-b89f-b06ad7488440"
      },
      "source": [
        "#df.tail(10)\n",
        "df.head(10)"
      ],
      "execution_count": 41,
      "outputs": [
        {
          "output_type": "execute_result",
          "data": {
            "text/html": [
              "<div>\n",
              "<style scoped>\n",
              "    .dataframe tbody tr th:only-of-type {\n",
              "        vertical-align: middle;\n",
              "    }\n",
              "\n",
              "    .dataframe tbody tr th {\n",
              "        vertical-align: top;\n",
              "    }\n",
              "\n",
              "    .dataframe thead th {\n",
              "        text-align: right;\n",
              "    }\n",
              "</style>\n",
              "<table border=\"1\" class=\"dataframe\">\n",
              "  <thead>\n",
              "    <tr style=\"text-align: right;\">\n",
              "      <th></th>\n",
              "      <th>Resumes</th>\n",
              "    </tr>\n",
              "  </thead>\n",
              "  <tbody>\n",
              "    <tr>\n",
              "      <th>0</th>\n",
              "      <td>\\nArun Venu\\n\\n\\n  EXPERIENCE SUMMARY\\n\\n\\n   ...</td>\n",
              "    </tr>\n",
              "    <tr>\n",
              "      <th>1</th>\n",
              "      <td>Mooraboyina Guravaiah\\n\\nWorkday Integration S...</td>\n",
              "    </tr>\n",
              "    <tr>\n",
              "      <th>2</th>\n",
              "      <td>Priyabrata Hota\\n\\n\\n\\n\\n\\nCAREER OBJECTIVE\\t\\...</td>\n",
              "    </tr>\n",
              "    <tr>\n",
              "      <th>3</th>\n",
              "      <td>HARIPRIYA BATTINA \\n\\nExperience as UI Develop...</td>\n",
              "    </tr>\n",
              "    <tr>\n",
              "      <th>4</th>\n",
              "      <td>\\nMaryala Vinay Reddy\\n\\nProfessional Summary:...</td>\n",
              "    </tr>\n",
              "    <tr>\n",
              "      <th>5</th>\n",
              "      <td>Kotani Durga Prasad\\n\\n\\n\\n\\n\\nObjective:\\n\\n\\...</td>\n",
              "    </tr>\n",
              "    <tr>\n",
              "      <th>6</th>\n",
              "      <td>Ranga Gaganam  \\n\\n\\n\\n \\n\\nProfessional\\n\\n \\...</td>\n",
              "    </tr>\n",
              "    <tr>\n",
              "      <th>7</th>\n",
              "      <td>\\n                      PeopleSoft Database Ad...</td>\n",
              "    </tr>\n",
              "    <tr>\n",
              "      <th>8</th>\n",
              "      <td>Ui-Developer/ React JS Developer \\n\\nNAME: KRI...</td>\n",
              "    </tr>\n",
              "    <tr>\n",
              "      <th>9</th>\n",
              "      <td>\\nHIMA.MENDU\\n\\n\\n\\nCareer Objective\\nTo conti...</td>\n",
              "    </tr>\n",
              "  </tbody>\n",
              "</table>\n",
              "</div>"
            ],
            "text/plain": [
              "                                             Resumes\n",
              "0  \\nArun Venu\\n\\n\\n  EXPERIENCE SUMMARY\\n\\n\\n   ...\n",
              "1  Mooraboyina Guravaiah\\n\\nWorkday Integration S...\n",
              "2  Priyabrata Hota\\n\\n\\n\\n\\n\\nCAREER OBJECTIVE\\t\\...\n",
              "3  HARIPRIYA BATTINA \\n\\nExperience as UI Develop...\n",
              "4  \\nMaryala Vinay Reddy\\n\\nProfessional Summary:...\n",
              "5  Kotani Durga Prasad\\n\\n\\n\\n\\n\\nObjective:\\n\\n\\...\n",
              "6  Ranga Gaganam  \\n\\n\\n\\n \\n\\nProfessional\\n\\n \\...\n",
              "7  \\n                      PeopleSoft Database Ad...\n",
              "8  Ui-Developer/ React JS Developer \\n\\nNAME: KRI...\n",
              "9  \\nHIMA.MENDU\\n\\n\\n\\nCareer Objective\\nTo conti..."
            ]
          },
          "metadata": {},
          "execution_count": 41
        }
      ]
    },
    {
      "cell_type": "code",
      "metadata": {
        "colab": {
          "base_uri": "https://localhost:8080/"
        },
        "id": "2HuHANg_pS7q",
        "outputId": "2b7e3a17-1d3b-470e-aff0-70f5c861d390"
      },
      "source": [
        "df.duplicated(subset=None,keep ='first')"
      ],
      "execution_count": 42,
      "outputs": [
        {
          "output_type": "execute_result",
          "data": {
            "text/plain": [
              "0     False\n",
              "1     False\n",
              "2     False\n",
              "3     False\n",
              "4     False\n",
              "      ...  \n",
              "74    False\n",
              "75    False\n",
              "76    False\n",
              "77    False\n",
              "78    False\n",
              "Length: 79, dtype: bool"
            ]
          },
          "metadata": {},
          "execution_count": 42
        }
      ]
    },
    {
      "cell_type": "code",
      "metadata": {
        "id": "NKqChHv_qrd8"
      },
      "source": [
        "df.drop_duplicates(inplace=True)"
      ],
      "execution_count": 43,
      "outputs": []
    },
    {
      "cell_type": "code",
      "metadata": {
        "colab": {
          "base_uri": "https://localhost:8080/"
        },
        "id": "QuwD_q4yqtEn",
        "outputId": "d28a9f58-ad39-4e94-a317-9157ef041d8b"
      },
      "source": [
        "df.shape"
      ],
      "execution_count": 44,
      "outputs": [
        {
          "output_type": "execute_result",
          "data": {
            "text/plain": [
              "(79, 1)"
            ]
          },
          "metadata": {},
          "execution_count": 44
        }
      ]
    },
    {
      "cell_type": "code",
      "metadata": {
        "id": "c85N8uB36OXm"
      },
      "source": [
        "#Data Cleaning\n",
        "#dictionary of punctuation marks\n",
        "import sys\n",
        "import unicodedata\n",
        "keys = [i for i in range(sys.maxunicode) if unicodedata.category(chr(i)).startswith('P')]\n",
        "# punctuation = dict.fromkeys(i for i in range(sys.maxunicode) if unicodedata.category(chr(i)).startswith('P'))\n",
        "punctuation = dict.fromkeys(keys,' ')\n",
        "#dictionary of new_line '\\n' and tab '\\t'\n",
        "new_line_tab = str.maketrans({chr(10): ' ', chr(9): ' '})"
      ],
      "execution_count": 45,
      "outputs": []
    },
    {
      "cell_type": "code",
      "metadata": {
        "id": "bVWSEN3PrjeR"
      },
      "source": [
        "import re\n",
        "def preprocessor(text):\n",
        "    text = re.sub('\\n', ' ', text) # remove new lines\n",
        "    text = re.sub('\\t', ' ', text)\n",
        "    text = re.sub('❖',\"\",text) # remove tabs\n",
        "    text = re.sub('@[A-Za-z0–9]+', ' ', text) #Removing tag(@)\n",
        "    text = re.sub('#', ' ', text) # Removing hashtag(#)\n",
        "#     text = re.sub('https?:\\/\\/\\S+', ' ', text) # Removing links\n",
        "    text = re.sub(r'http\\S+', ' ', text) #remove https links\n",
        "    text = re.sub(':', ' ', text) # remove tabs\n",
        "    text = re.sub('<[^<]+?>', ' ', text) #remove html tags\n",
        "    text = re.sub(r'[^\\w]', ' ', text) #remove non alphanumerc characters\n",
        "#     text = re.sub('httpS+s*', ' ', text)  # remove URLs\n",
        "#     text = re.sub('RT|cc', ' ', text)  # remove RT and cc\n",
        "#     text = re.sub('#S+', '', text)  # remove hashtags\n",
        "#     text = re.sub('@S+', '  ', text)  # remove mentions\n",
        "#     text = re.sub('[%s]' % re.escape(\"\"\"!\"#$%&'()*+,-./:;<=>?@[]^_`{|}~\"\"\"), ' ', text)  # remove punctuations\n",
        "    text = text.translate(punctuation)\n",
        "#     text = re.sub('s+', ' ', text)  # remove extra whitespace\n",
        "    text = text.lower()\n",
        "    text = text.strip()\n",
        "    text = text.translate(new_line_tab)\n",
        "    return text\n",
        "df['Resumes'] = df.Resumes.apply(lambda x: preprocessor(x))"
      ],
      "execution_count": 47,
      "outputs": []
    },
    {
      "cell_type": "code",
      "metadata": {
        "colab": {
          "base_uri": "https://localhost:8080/",
          "height": 206
        },
        "id": "Vzy1MSMarlLw",
        "outputId": "953a5987-de9f-4cfd-e35a-e864b22c2f0e"
      },
      "source": [
        "df.head()"
      ],
      "execution_count": 48,
      "outputs": [
        {
          "output_type": "execute_result",
          "data": {
            "text/html": [
              "<div>\n",
              "<style scoped>\n",
              "    .dataframe tbody tr th:only-of-type {\n",
              "        vertical-align: middle;\n",
              "    }\n",
              "\n",
              "    .dataframe tbody tr th {\n",
              "        vertical-align: top;\n",
              "    }\n",
              "\n",
              "    .dataframe thead th {\n",
              "        text-align: right;\n",
              "    }\n",
              "</style>\n",
              "<table border=\"1\" class=\"dataframe\">\n",
              "  <thead>\n",
              "    <tr style=\"text-align: right;\">\n",
              "      <th></th>\n",
              "      <th>Resumes</th>\n",
              "    </tr>\n",
              "  </thead>\n",
              "  <tbody>\n",
              "    <tr>\n",
              "      <th>0</th>\n",
              "      <td>arun venu     experience summary         exper...</td>\n",
              "    </tr>\n",
              "    <tr>\n",
              "      <th>1</th>\n",
              "      <td>mooraboyina guravaiah  workday integration spe...</td>\n",
              "    </tr>\n",
              "    <tr>\n",
              "      <th>2</th>\n",
              "      <td>priyabrata hota      career objective      pur...</td>\n",
              "    </tr>\n",
              "    <tr>\n",
              "      <th>3</th>\n",
              "      <td>haripriya battina   experience as ui developer...</td>\n",
              "    </tr>\n",
              "    <tr>\n",
              "      <th>4</th>\n",
              "      <td>maryala vinay reddy  professional summary     ...</td>\n",
              "    </tr>\n",
              "  </tbody>\n",
              "</table>\n",
              "</div>"
            ],
            "text/plain": [
              "                                             Resumes\n",
              "0  arun venu     experience summary         exper...\n",
              "1  mooraboyina guravaiah  workday integration spe...\n",
              "2  priyabrata hota      career objective      pur...\n",
              "3  haripriya battina   experience as ui developer...\n",
              "4  maryala vinay reddy  professional summary     ..."
            ]
          },
          "metadata": {},
          "execution_count": 48
        }
      ]
    },
    {
      "cell_type": "code",
      "metadata": {
        "id": "_SNI3gQdrlQ4"
      },
      "source": [
        "## Word Tokenization\n",
        "##getting the entire Resume text\n",
        "corpus =' ';\n",
        "for i in range(0,len(df)):\n",
        "  corpus = corpus + df['Resumes'][i]\n"
      ],
      "execution_count": 52,
      "outputs": []
    },
    {
      "cell_type": "code",
      "metadata": {
        "id": "RBfJpHa0HyZW",
        "colab": {
          "base_uri": "https://localhost:8080/",
          "height": 165
        },
        "outputId": "d30589a9-0053-4220-dce7-df83d3912777"
      },
      "source": [
        "corpus[500:2000]"
      ],
      "execution_count": 55,
      "outputs": [
        {
          "output_type": "execute_result",
          "data": {
            "application/vnd.google.colaboratory.intrinsic+json": {
              "type": "string"
            },
            "text/plain": [
              "' activities        good experience in upgrade  implementation modules        good experience in all phases of the application development cycle         design  coding  testing  maintenance and documentation        worked on creating custom reports using bi publisher  sqr  and ps       query        worked on testing tool ptf peoplesoft testing framework        excellent capability to explore  learn and understand newer business       domains and technologies        good communication skills      software proficiency    skills                  app package  application engine  people code                               sqr  bip  ps query                                 domain knowledge        financial services  retail  healthcare             development tools       peoplesoft application designer                    data management         data mover                                         integration tools       integration broker                                 database                oracle 11g  12c                                        working experience        currently working as peoplesoft technical consultant since december       2016 till date in wipro technologies      educational qualification         bca  computer applications  from guru gobind singh indraparastha       university        m tech  software engineering  from bits pilani at wipro wase program    professional experience    project       tools upgrade 8 58                                           customer'"
            ]
          },
          "metadata": {},
          "execution_count": 55
        }
      ]
    },
    {
      "cell_type": "code",
      "metadata": {
        "id": "hNaUEYKlHyki"
      },
      "source": [
        "# removing the extra white spaces in the corpus\n",
        "import re\n",
        "corpus =re.sub(' + ',' ',corpus)"
      ],
      "execution_count": 56,
      "outputs": []
    },
    {
      "cell_type": "code",
      "metadata": {
        "id": "XW9vQQlCHyly",
        "colab": {
          "base_uri": "https://localhost:8080/",
          "height": 165
        },
        "outputId": "d4a7fb77-c44e-4b6d-ac74-5d4116662f60"
      },
      "source": [
        "corpus[500:2000]"
      ],
      "execution_count": 57,
      "outputs": [
        {
          "output_type": "execute_result",
          "data": {
            "application/vnd.google.colaboratory.intrinsic+json": {
              "type": "string"
            },
            "text/plain": [
              "'good experience in all phases of the application development cycle design coding testing maintenance and documentation worked on creating custom reports using bi publisher sqr and ps query worked on testing tool ptf peoplesoft testing framework excellent capability to explore learn and understand newer business domains and technologies good communication skills software proficiency skills app package application engine people code sqr bip ps query domain knowledge financial services retail healthcare development tools peoplesoft application designer data management data mover integration tools integration broker database oracle 11g 12c working experience currently working as peoplesoft technical consultant since december 2016 till date in wipro technologies educational qualification bca computer applications from guru gobind singh indraparastha university m tech software engineering from bits pilani at wipro wase program professional experience project tools upgrade 8 58 customer credit suisse domain financial services role hcm technical consultant period feb 2022 june 2021 description credit suisse group ag is a global investment bank and financial services firm founded and based in switzerland responsibilit analysis of all customizations for ess and mss pages for ies fluid implementation converting ess pages to fluid pages like name change home and mailing address swiss payslip phone number email address emergency contacts and ethnic groups converting mss pages to fluid dat'"
            ]
          },
          "metadata": {},
          "execution_count": 57
        }
      ]
    },
    {
      "cell_type": "code",
      "metadata": {
        "id": "UE5jxTZEHym3",
        "colab": {
          "base_uri": "https://localhost:8080/",
          "height": 91
        },
        "outputId": "152429ea-2221-495d-facd-a081aed5bae2"
      },
      "source": [
        "corpus[500:1000]"
      ],
      "execution_count": 59,
      "outputs": [
        {
          "output_type": "execute_result",
          "data": {
            "application/vnd.google.colaboratory.intrinsic+json": {
              "type": "string"
            },
            "text/plain": [
              "'good experience in all phases of the application development cycle design coding testing maintenance and documentation worked on creating custom reports using bi publisher sqr and ps query worked on testing tool ptf peoplesoft testing framework excellent capability to explore learn and understand newer business domains and technologies good communication skills software proficiency skills app package application engine people code sqr bip ps query domain knowledge financial services retail healt'"
            ]
          },
          "metadata": {},
          "execution_count": 59
        }
      ]
    },
    {
      "cell_type": "code",
      "metadata": {
        "id": "88Zfj-uSrlUA",
        "colab": {
          "base_uri": "https://localhost:8080/"
        },
        "outputId": "9384a38f-e6fc-4577-f624-5085aede7e1d"
      },
      "source": [
        "import nltk\n",
        "nltk.download('punkt')"
      ],
      "execution_count": 61,
      "outputs": [
        {
          "output_type": "stream",
          "name": "stdout",
          "text": [
            "[nltk_data] Downloading package punkt to /root/nltk_data...\n",
            "[nltk_data]   Package punkt is already up-to-date!\n"
          ]
        },
        {
          "output_type": "execute_result",
          "data": {
            "text/plain": [
              "True"
            ]
          },
          "metadata": {},
          "execution_count": 61
        }
      ]
    },
    {
      "cell_type": "code",
      "metadata": {
        "id": "UF19KHdmrlWV",
        "colab": {
          "base_uri": "https://localhost:8080/"
        },
        "outputId": "a302002f-f46f-4341-b149-eb3e1b17a0d7"
      },
      "source": [
        "from nltk.tokenize import word_tokenize\n",
        "tokens =word_tokenize(corpus)\n",
        "len(tokens)"
      ],
      "execution_count": 68,
      "outputs": [
        {
          "output_type": "execute_result",
          "data": {
            "text/plain": [
              "57664"
            ]
          },
          "metadata": {},
          "execution_count": 68
        }
      ]
    },
    {
      "cell_type": "code",
      "metadata": {
        "colab": {
          "base_uri": "https://localhost:8080/"
        },
        "id": "4zRR3uHy8R8x",
        "outputId": "230caa9b-58ab-4512-a9d0-49eece71e821"
      },
      "source": [
        "tokens[0:5]"
      ],
      "execution_count": 67,
      "outputs": [
        {
          "output_type": "execute_result",
          "data": {
            "text/plain": [
              "['arun', 'venu', 'experience', 'summary', 'experience']"
            ]
          },
          "metadata": {},
          "execution_count": 67
        }
      ]
    },
    {
      "cell_type": "code",
      "metadata": {
        "colab": {
          "base_uri": "https://localhost:8080/"
        },
        "id": "BO7Xm0eQ8gJA",
        "outputId": "820d594e-b147-4788-9492-fc7455973585"
      },
      "source": [
        "import nltk\n",
        "nltk.download(\"stopwords\")\n",
        "nltk.download(\"wordnet\")"
      ],
      "execution_count": 70,
      "outputs": [
        {
          "output_type": "stream",
          "name": "stdout",
          "text": [
            "[nltk_data] Downloading package stopwords to /root/nltk_data...\n",
            "[nltk_data]   Package stopwords is already up-to-date!\n",
            "[nltk_data] Downloading package wordnet to /root/nltk_data...\n",
            "[nltk_data]   Package wordnet is already up-to-date!\n"
          ]
        },
        {
          "output_type": "execute_result",
          "data": {
            "text/plain": [
              "True"
            ]
          },
          "metadata": {},
          "execution_count": 70
        }
      ]
    },
    {
      "cell_type": "code",
      "metadata": {
        "id": "RVV5cofyHbAe"
      },
      "source": [
        "stopwords = nltk.corpus.stopwords.words('english')\n",
        "words_new =[]\n",
        "for word in tokens:\n",
        "  if word not in stopwords:\n",
        "    words_new.append(word)\n"
      ],
      "execution_count": 77,
      "outputs": []
    },
    {
      "cell_type": "code",
      "metadata": {
        "colab": {
          "base_uri": "https://localhost:8080/"
        },
        "id": "DaIMIM1DHbDL",
        "outputId": "ea3ae66d-f589-4755-c269-9aee8ed511f9"
      },
      "source": [
        "len(words_new)"
      ],
      "execution_count": 78,
      "outputs": [
        {
          "output_type": "execute_result",
          "data": {
            "text/plain": [
              "44035"
            ]
          },
          "metadata": {},
          "execution_count": 78
        }
      ]
    },
    {
      "cell_type": "code",
      "metadata": {
        "id": "lZPFwaZyKE55"
      },
      "source": [
        ""
      ],
      "execution_count": null,
      "outputs": []
    }
  ]
}